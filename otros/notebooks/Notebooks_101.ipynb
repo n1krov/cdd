{
 "cells": [
  {
   "cell_type": "markdown",
   "id": "25d0468b",
   "metadata": {},
   "source": [
    "# 📓 Notebooks 101: Introducción a Jupyter Notebooks"
   ]
  },
  {
   "cell_type": "markdown",
   "id": "976b7758",
   "metadata": {},
   "source": [
    "## 1. ¿Qué son los notebooks de Jupyter?\n",
    "Los *Jupyter Notebooks* son documentos interactivos que combinan **código ejecutable**, **texto explicativo en Markdown**, **fórmulas matemáticas**, **gráficos** y **visualizaciones**. Fueron originalmente diseñados para Python, pero hoy en día soportan muchos lenguajes gracias al sistema de *kernels*. Son ampliamente utilizados en ciencia de datos, educación, machine learning, simulaciones científicas y más."
   ]
  },
  {
   "cell_type": "markdown",
   "id": "b5afc392",
   "metadata": {},
   "source": [
    "## 2. ¿Qué es JupyterLab?\n",
    "**JupyterLab** es la evolución de los notebooks tradicionales. Ofrece una **interfaz más flexible y moderna**, con soporte para múltiples pestañas, terminales, archivos de texto, consolas interactivas y vistas de notebooks simultáneamente. Se puede extender con plugins y es ideal para flujos de trabajo complejos."
   ]
  },
  {
   "cell_type": "markdown",
   "id": "a092e957",
   "metadata": {},
   "source": [
    "## 3. Opciones en la nube para trabajar con Notebooks\n",
    "A continuación se presentan algunas de las principales plataformas cloud para usar notebooks sin necesidad de instalación local:\n",
    "\n",
    "- **[Google Colab](https://colab.research.google.com/)**: Plataforma gratuita de Google que permite usar notebooks con GPUs, compartir fácilmente y conectar con Drive.\n",
    "- **[AWS SageMaker Studio Lab](https://studiolab.sagemaker.aws/)**: Entorno gratuito de notebooks proporcionado por Amazon con acceso a CPUs y GPUs, muy orientado a ML.\n",
    "\n",
    "[TODO: Probar ambos y/o buscar alguna alternativa. Hacer un tutorial básico...]"
   ]
  },
  {
   "cell_type": "markdown",
   "id": "9c4ad5b5",
   "metadata": {},
   "source": [
    "## 4. ¿Cuál usaremos en este curso?\n",
    "Durante este curso utilizaremos **Jupyter Notebooks locales a través de JupyterLab**, o bien Google Colab como alternativa en la nube. Esto permite a los estudiantes trabajar en entornos controlados, sin necesidad de instalar herramientas complejas al inicio."
   ]
  },
  {
   "cell_type": "markdown",
   "id": "864b1646",
   "metadata": {},
   "source": [
    "## 5. Los 3 mejores tutoriales sobre Jupyter Notebooks\n",
    "Te recomendamos estos tutoriales para profundizar:\n",
    "\n",
    "[TODO: encontrar los 3 mejores tutoriales introductorios...]\n",
    "\n",
    "1. 📘 [Jupyter Notebook for Beginners (DataCamp, en inglés)](https://www.datacamp.com/tutorial/jupyter-notebook-tutorial)\n",
    "2. 🇪🇸 [Curso rápido de Jupyter Notebook (Pythonizando)](https://pythonizando.com/jupyter-notebook/)\n",
    "3. 🎥 [Introducción a Jupyter Notebook (YouTube - Código Facilito)](https://www.youtube.com/watch?v=HW29067qVWk)"
   ]
  }
 ],
 "metadata": {
  "language_info": {
   "name": "python"
  }
 },
 "nbformat": 4,
 "nbformat_minor": 5
}
