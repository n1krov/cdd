{
 "cells": [
  {
   "cell_type": "markdown",
   "id": "47ace5dd",
   "metadata": {
    "id": "47ace5dd"
   },
   "source": [
    "\n",
    "# Laboratorio: *Python for Data Analysis* (3rd Ed) — Orquestando Clases por Equipos 🎓🐍\n",
    "\n",
    "**Cátedra:** Ciencia de Datos\n",
    "**Fecha de creación:** 2025-08-10\n",
    "\n",
    "> _“Con great power viene great `import pandas as pd`.”_ — Un tío de Spider‑man que hacía ETL\n"
   ]
  },
  {
   "cell_type": "markdown",
   "id": "d2123b7b",
   "metadata": {
    "id": "d2123b7b"
   },
   "source": [
    "\n",
    "## ¿De qué va este laboratorio?\n",
    "\n",
    "Vamos a usar los laboratorios del libro **_Python for Data Analysis, 3rd Edition_** de **Wes McKinney** para que **10 equipos** preparen y dicten una clase práctica.  \n",
    "El repo oficial con notebooks y datos está aquí: <https://github.com/wesm/pydata-book>.\n",
    "\n",
    "**Objetivos de aprendizaje**  \n",
    "- Explorar NumPy, pandas y amigos con ejemplos “de verdad”.  \n",
    "- Desarrollar habilidades de **explicación técnica** (y no dormirse explicando `groupby`).  \n",
    "- Practicar colaboración, versionado y presentación técnica.  \n",
    "- Cerrar la clase con algo que compile, corra y se entienda (¡bonus si además es lindo!).\n"
   ]
  },
  {
   "cell_type": "markdown",
   "id": "0a57b762",
   "metadata": {
    "id": "0a57b762"
   },
   "source": [
    "\n",
    "## ¿Cómo funciona?\n",
    "\n",
    "1. **Equipos**: la clase se divide en **10 equipos** (ver tabla de asignación).  \n",
    "2. **Capítulos**: cada equipo adopta 1–2 capítulos (según densidad) del libro y prepara:\n",
    "   - Un **mini‑notebook** demostrativo (15–25 min).\n",
    "   - Un **ejercicio guiado** (10–15 min) y un **desafío** corto (para casa o para los 10 min finales).\n",
    "   - **3–5 diapositivas** con ideas clave, gotchas y “anti‑patrones” típicos.\n",
    "3. **Entrega**: suben todo a un repo de la cátedra (o fork) y dejan instrucciones para ejecutar.  \n",
    "4. **Clase**: exponen, ejecutan el notebook en vivo y responden preguntas.  \n",
    "5. **Rubrica**: abajo tenés la rúbrica de evaluación (spoiler: claridad > pirotecnia).\n"
   ]
  },
  {
   "cell_type": "markdown",
   "id": "f3e3247d",
   "metadata": {
    "id": "f3e3247d"
   },
   "source": [
    "\n",
    "## Asignación de capítulos a equipos 📚➡️👥\n",
    "\n",
    "> Basado en los contenidos del libro (3ª edición). Si tu edición tiene numeración levemente distinta, **mantener el tema** es más importante que el número exacto.\n",
    "\n",
    "| Equipo | Capítulos (tema) |\n",
    "|-------:|------------------|\n",
    "| Data Surfers | Cap. 1 **Introducción** + Cap. 2 **Python, IPython y Jupyter** |\n",
    "| Data Surfers | Cap. 3 **Estructuras básicas, funciones y archivos** |\n",
    "| Somó7 | Cap. 4 **NumPy: arrays y vectorización** |\n",
    "| Pandas Locos | Cap. 5 **Primeros pasos con pandas** |\n",
    "| Inteligencia Artesanal | Cap. 6 **Data Loading, Storage, and File Formats** |\n",
    "| Faith No More  | Cap. 7 **Limpieza y preparación de datos** |\n",
    "| De Datos Somos | Cap. 8 **Data wrangling: join/combine/reshape** |\n",
    "| Lambda | Cap. 9 **Gráficos y visualización** (matplotlib + complementos) |\n",
    "| null | Cap. 10 **Aggregation & GroupBy** |\n",
    "| Meta-verso 2.0 | Cap. 11 **Series temporales** + temas avanzados de pandas |\n",
    "| DTI | Grus - Data Science from Scratch - Chapter 14. Simple Linear Regression |\n",
    "\n",
    "**Sugerencia**: si necesitás más material, podés tomar ejemplos del repo (carpetas `ch*`) y referencias cruzadas con `statsmodels` o `scikit‑learn` solo para contexto (sin desviarse del foco: **análisis de datos**).\n"
   ]
  },
  {
   "cell_type": "markdown",
   "id": "c3eb626b",
   "metadata": {
    "id": "c3eb626b"
   },
   "source": [
    "\n",
    "## Entregables por equipo 📦\n",
    "\n",
    "- **Notebook demo** (`demo_equipo<N>.ipynb`): conceptos clave + ejemplos que corren.\n",
    "- **Notebook de ejercicios** (`ejercicios_equipo<N>.ipynb`): 6–10 celdas con ejercicios sobre los conceptos explicados usando un dataset de Kaggle. Vamos a usar estos ejercicios durante la clase.\n",
    "- **Slides** (PDF o Google Slides compartible): 3–5 láminas máx. Solo si aportan valor.\n",
    "- **README.md** con: objetivos, cómo ejecutar, datasets usados y créditos.\n",
    "- **1 issue** abierto en el repo del libro describiendo algo que mejorarías del capítulo (naming, ejemplo alternativo, etc.).\n",
    "\n",
    "> **Tip**: un notebook sin `requirements.txt` es como un mate sin bombilla: _técnicamente_ se puede, pero vas a sufrir.\n"
   ]
  },
  {
   "cell_type": "markdown",
   "id": "bc972d12",
   "metadata": {
    "id": "bc972d12"
   },
   "source": [
    "\n",
    "## Rúbrica de evaluación (100 pts)\n",
    "\n",
    "- **Claridad didáctica (25 pts)**: explican conceptos paso a paso, ejemplos minimalistas y luego uno real.  \n",
    "- **Calidad técnica (25 pts)**: código limpio, reproducible, sin warnings evitables, buenas prácticas (`.pipe`, `assign`, `query`, etc.).  \n",
    "- **Diseño de ejercicios (20 pts)**: progresivos, con verificación básica y feedback.  \n",
    "- **Visualización y comunicación (15 pts)**: gráficos legibles, etiquetas, storytelling breve.  \n",
    "- **Documentación y repositorio (10 pts)**: README claro, estructura ordenada, instrucciones para correr.  \n",
    "- **Participación y timing (5 pts)**: toda la squad participa y respetan los tiempos.\n"
   ]
  },
  {
   "cell_type": "markdown",
   "id": "2f3f9ea9",
   "metadata": {
    "id": "2f3f9ea9"
   },
   "source": [
    "\n",
    "## (Opcional) Asignación automática de estudiantes a 10 equipos\n",
    "\n",
    "Pegá abajo la lista de estudiantes (uno por línea), elegí una semilla y ejecutá.  \n",
    "> Tranquilo: si te toca con tu mejor amigo, fue pura estadística y un poquito de `random.shuffle`.\n"
   ]
  },
  {
   "cell_type": "markdown",
   "id": "88648d6c",
   "metadata": {
    "id": "88648d6c"
   },
   "source": [
    "\n",
    "## Referencias y recursos 🔗\n",
    "\n",
    "- **Repositorio oficial del libro (notebooks y datos)**: <https://github.com/wesm/pydata-book>  \n",
    "- **Libro**: *Python for Data Analysis, 3rd Edition* — Wes McKinney, O’Reilly.  \n",
    "- **Documentación**:  \n",
    "  - pandas: <https://pandas.pydata.org/docs/>  \n",
    "  - NumPy: <https://numpy.org/doc/>  \n",
    "  - Matplotlib: <https://matplotlib.org/stable/>  \n",
    "- **Extras útiles**:  \n",
    "  - Cheat sheets de pandas y NumPy (varias ediciones, “buscables” y pegables en la pared del lab).\n",
    "\n",
    "> **Chiste malo obligatorio**: ¿Por qué el `DataFrame` se sentía solo? Porque no encontraba su `index`. 😅\n"
   ]
  },
  {
   "cell_type": "markdown",
   "id": "bc22fc16",
   "metadata": {
    "id": "bc22fc16"
   },
   "source": [
    "\n",
    "## Consejos finales ☕\n",
    "\n",
    "- Menos magia, más pasos visibles. Si algo parece “voodoo”, explíquenlo con una celda mínima.  \n",
    "- Usen **datasets pequeños** para que todo corra en vivo sin lag.  \n",
    "- Versionen: ramas por equipo, PRs cortos, mensajes de commit que no den vergüenza dentro de 6 meses.  \n",
    "- Si un gráfico no se lee, no existe. Etiquetas, tamaños y unidades importan.  \n",
    "- **Demo‑first mindset**: primero que funcione, luego que brille.\n"
   ]
  }
 ],
 "metadata": {
  "colab": {
   "provenance": []
  },
  "kernelspec": {
   "display_name": "Python 3 (ipykernel)",
   "language": "python",
   "name": "python3"
  },
  "language_info": {
   "codemirror_mode": {
    "name": "ipython",
    "version": 3
   },
   "file_extension": ".py",
   "mimetype": "text/x-python",
   "name": "python",
   "nbconvert_exporter": "python",
   "pygments_lexer": "ipython3",
   "version": "3.13.7"
  }
 },
 "nbformat": 4,
 "nbformat_minor": 5
}
