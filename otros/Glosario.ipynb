{
 "cells": [
  {
   "cell_type": "markdown",
   "id": "b8139b2f",
   "metadata": {},
   "source": [
    "# Glosario"
   ]
  },
  {
   "cell_type": "markdown",
   "id": "084b87b2",
   "metadata": {},
   "source": [
    "ejemplo de jupyter"
   ]
  },
  {
   "cell_type": "code",
   "execution_count": null,
   "id": "e4d2bbe4",
   "metadata": {
    "lines_to_next_cell": 2
   },
   "outputs": [],
   "source": [
    "\n",
    "print(\"hola mundo\")\n"
   ]
  },
  {
   "cell_type": "code",
   "execution_count": 1,
   "id": "75d27cf8",
   "metadata": {
    "jupyter": {
     "is_executing": false
    },
    "lines_to_next_cell": 0
   },
   "outputs": [
    {
     "name": "stdout",
     "output_type": "stream",
     "text": [
      "hola mundo\n"
     ]
    }
   ],
   "source": [
    "# Esto es un comentario\n",
    "\n",
    "print(\"hola mundo\")"
   ]
  },
  {
   "cell_type": "markdown",
   "id": "e427c924",
   "metadata": {},
   "source": [
    "\n"
   ]
  }
 ],
 "metadata": {
  "jupytext": {
   "cell_metadata_filter": "-all",
   "formats": "ipynb,md",
   "main_language": "python"
  }
 },
 "nbformat": 4,
 "nbformat_minor": 5
}
