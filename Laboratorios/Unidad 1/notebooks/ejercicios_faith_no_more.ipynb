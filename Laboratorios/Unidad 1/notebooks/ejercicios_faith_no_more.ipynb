{
 "cells": [
  {
   "cell_type": "markdown",
   "metadata": {},
   "source": [
    "# Ejercicios de Limpieza y Preparación de Datos\n",
    "\n",
    "Para la realización de la siguiente guía práctica utilizaremos el dataset [Netflix Movies and TV Shows](https://www.kaggle.com/datasets/shivamb/netflix-shows).\n",
    "\n",
    "> *El archivo ya descargado se encuentra bajo la dirección `./datasets/Alumnos/Equipo Faith No More/Netflix Movies and TV Shows/netflix_titles.csv`*"
   ]
  },
  {
   "cell_type": "code",
   "execution_count": 1,
   "metadata": {},
   "outputs": [
    {
     "name": "stdout",
     "output_type": "stream",
     "text": [
      "  show_id     type                  title         director  \\\n",
      "0      s1    Movie   Dick Johnson Is Dead  Kirsten Johnson   \n",
      "1      s2  TV Show          Blood & Water              NaN   \n",
      "2      s3  TV Show              Ganglands  Julien Leclercq   \n",
      "3      s4  TV Show  Jailbirds New Orleans              NaN   \n",
      "4      s5  TV Show           Kota Factory              NaN   \n",
      "\n",
      "                                                cast        country  \\\n",
      "0                                                NaN  United States   \n",
      "1  Ama Qamata, Khosi Ngema, Gail Mabalane, Thaban...   South Africa   \n",
      "2  Sami Bouajila, Tracy Gotoas, Samuel Jouy, Nabi...            NaN   \n",
      "3                                                NaN            NaN   \n",
      "4  Mayur More, Jitendra Kumar, Ranjan Raj, Alam K...          India   \n",
      "\n",
      "           date_added  release_year rating   duration  \\\n",
      "0  September 25, 2021          2020  PG-13     90 min   \n",
      "1  September 24, 2021          2021  TV-MA  2 Seasons   \n",
      "2  September 24, 2021          2021  TV-MA   1 Season   \n",
      "3  September 24, 2021          2021  TV-MA   1 Season   \n",
      "4  September 24, 2021          2021  TV-MA  2 Seasons   \n",
      "\n",
      "                                           listed_in  \\\n",
      "0                                      Documentaries   \n",
      "1    International TV Shows, TV Dramas, TV Mysteries   \n",
      "2  Crime TV Shows, International TV Shows, TV Act...   \n",
      "3                             Docuseries, Reality TV   \n",
      "4  International TV Shows, Romantic TV Shows, TV ...   \n",
      "\n",
      "                                         description  \n",
      "0  As her father nears the end of his life, filmm...  \n",
      "1  After crossing paths at a party, a Cape Town t...  \n",
      "2  To protect his family from a powerful drug lor...  \n",
      "3  Feuds, flirtations and toilet talk go down amo...  \n",
      "4  In a city of coaching centers known to train I...  \n",
      "<class 'pandas.core.frame.DataFrame'>\n",
      "RangeIndex: 8807 entries, 0 to 8806\n",
      "Data columns (total 12 columns):\n",
      " #   Column        Non-Null Count  Dtype \n",
      "---  ------        --------------  ----- \n",
      " 0   show_id       8807 non-null   object\n",
      " 1   type          8807 non-null   object\n",
      " 2   title         8807 non-null   object\n",
      " 3   director      6173 non-null   object\n",
      " 4   cast          7982 non-null   object\n",
      " 5   country       7976 non-null   object\n",
      " 6   date_added    8797 non-null   object\n",
      " 7   release_year  8807 non-null   int64 \n",
      " 8   rating        8803 non-null   object\n",
      " 9   duration      8804 non-null   object\n",
      " 10  listed_in     8807 non-null   object\n",
      " 11  description   8807 non-null   object\n",
      "dtypes: int64(1), object(11)\n",
      "memory usage: 825.8+ KB\n",
      "None\n"
     ]
    }
   ],
   "source": [
    "# ~~~ Importación de librerías necesarias y del dataset ~~~ #\n",
    "\n",
    "import pandas as pd\n",
    "import numpy as np\n",
    "\n",
    "direccion = r\"../../../datasets/Alumnos/Equipo Faith No More/Netflix Movies and TV Shows/netflix_titles.csv\"\n",
    "\n",
    "df = pd.read_csv(direccion)\n",
    "\n",
    "# Verificamos que el archivo se haya cargado correctamente y vemos la estructura del dataset\n",
    "print(df.head())\n",
    "print(df.info())"
   ]
  },
  {
   "cell_type": "markdown",
   "metadata": {},
   "source": [
    "## Ejercicio n°1: Relleno de valores faltantes\n",
    "\n",
    "Descripción: Algunas películas/series no tienen información de director. Podemos rellenar esos valores faltantes con la cadena \"Desconocido\".\n",
    "\n",
    "Pregunta: ¿Cuántos valores faltantes de la columna director quedan después de imputar?\n",
    "\n",
    "Resolución:"
   ]
  },
  {
   "cell_type": "code",
   "execution_count": 2,
   "metadata": {},
   "outputs": [
    {
     "name": "stdout",
     "output_type": "stream",
     "text": [
      "La columna 'director' tiene 2634 filas vacias\n",
      "La columna 'director' tiene 0 filas vacias\n"
     ]
    }
   ],
   "source": [
    "filas = df['director'].isna().sum()\n",
    "print(f\"La columna 'director' tiene {filas} filas vacias\")\n",
    "\n",
    "df['director'] = df['director'].fillna(\"Desconocido\")\n",
    "filas = df['director'].isna().sum()\n",
    "print(f\"La columna 'director' tiene {filas} filas vacias\")"
   ]
  },
  {
   "cell_type": "markdown",
   "metadata": {},
   "source": [
    "## Ejercicio n°2: Normalización de texto\n",
    "\n",
    "Descripción: La columna country presenta valores con variaciones de mayúsculas/minúsculas. Vamos a estandarizarlos para que todo quede en mayúsculas.\n",
    "\n",
    "Pregunta: ¿Cuál es el conteo de películas por país después de la normalización?\n",
    "\n",
    "Resolución:"
   ]
  },
  {
   "cell_type": "code",
   "execution_count": 3,
   "metadata": {},
   "outputs": [
    {
     "data": {
      "text/plain": [
       "country\n",
       "UNITED STATES     2818\n",
       "INDIA              972\n",
       "UNITED KINGDOM     419\n",
       "JAPAN              245\n",
       "SOUTH KOREA        199\n",
       "CANADA             181\n",
       "SPAIN              145\n",
       "FRANCE             124\n",
       "MEXICO             110\n",
       "EGYPT              106\n",
       "Name: count, dtype: int64"
      ]
     },
     "execution_count": 3,
     "metadata": {},
     "output_type": "execute_result"
    }
   ],
   "source": [
    "df['country'] = df['country'].str.upper()\n",
    "df['country'].value_counts().head(10)"
   ]
  },
  {
   "cell_type": "markdown",
   "metadata": {},
   "source": [
    "## Ejercicio n°3: Conversión de fechas\n",
    "\n",
    "Descripción: La columna date_added es de tipo object. Debemos convertirla a tipo datetime para trabajar con series temporales.\n",
    "\n",
    "Pregunta: ¿Cuál es la fecha más reciente y la más antigua de adición a Netflix?\n",
    "\n",
    "Resolución:"
   ]
  },
  {
   "cell_type": "code",
   "execution_count": 4,
   "metadata": {},
   "outputs": [
    {
     "data": {
      "text/plain": [
       "(Timestamp('2008-01-01 00:00:00'), Timestamp('2021-09-25 00:00:00'))"
      ]
     },
     "execution_count": 4,
     "metadata": {},
     "output_type": "execute_result"
    }
   ],
   "source": [
    "df['date_added'] = pd.to_datetime(df['date_added'].str.strip())\n",
    "df['date_added'].min(), df['date_added'].max()"
   ]
  },
  {
   "cell_type": "markdown",
   "metadata": {},
   "source": [
    "## Ejercicio n°4: Creación de variables derivadas\n",
    "\n",
    "Descripción: A partir de la columna listed_in, que contiene géneros separados por coma, crearemos una variable binaria indicando si el título es una “Documentary”.\n",
    "\n",
    "Pregunta: ¿Cuántos documentales hay en el catálogo de Netflix?\n",
    "\n",
    "Resolución:"
   ]
  },
  {
   "cell_type": "code",
   "execution_count": 5,
   "metadata": {},
   "outputs": [
    {
     "name": "stdout",
     "output_type": "stream",
     "text": [
      "En Netflix hay 869 documentales.\n"
     ]
    }
   ],
   "source": [
    "df['is_documentary'] = df['listed_in'].str.contains(\"Documentaries\", case=False, na=False)\n",
    "documentales = df['is_documentary'].sum()\n",
    "print(f\"En Netflix hay {documentales} documentales.\")"
   ]
  },
  {
   "cell_type": "markdown",
   "metadata": {},
   "source": [
    "## Ejercicio n°5: Creación de variables dummies\n",
    "\n",
    "Descripción: La columna type contiene dos categorías: Movie y TV Show. Vamos a convertir esta variable categórica en variables dummy.\n",
    "\n",
    "Pregunta: ¿Cómo se ve el dataset después de aplicar get_dummies a la columna type?\n",
    "\n",
    "Resolución:"
   ]
  },
  {
   "cell_type": "code",
   "execution_count": 6,
   "metadata": {},
   "outputs": [
    {
     "data": {
      "text/html": [
       "<div>\n",
       "<style scoped>\n",
       "    .dataframe tbody tr th:only-of-type {\n",
       "        vertical-align: middle;\n",
       "    }\n",
       "\n",
       "    .dataframe tbody tr th {\n",
       "        vertical-align: top;\n",
       "    }\n",
       "\n",
       "    .dataframe thead th {\n",
       "        text-align: right;\n",
       "    }\n",
       "</style>\n",
       "<table border=\"1\" class=\"dataframe\">\n",
       "  <thead>\n",
       "    <tr style=\"text-align: right;\">\n",
       "      <th></th>\n",
       "      <th>type_Movie</th>\n",
       "      <th>type_TV Show</th>\n",
       "    </tr>\n",
       "  </thead>\n",
       "  <tbody>\n",
       "    <tr>\n",
       "      <th>0</th>\n",
       "      <td>True</td>\n",
       "      <td>False</td>\n",
       "    </tr>\n",
       "    <tr>\n",
       "      <th>1</th>\n",
       "      <td>False</td>\n",
       "      <td>True</td>\n",
       "    </tr>\n",
       "    <tr>\n",
       "      <th>2</th>\n",
       "      <td>False</td>\n",
       "      <td>True</td>\n",
       "    </tr>\n",
       "    <tr>\n",
       "      <th>3</th>\n",
       "      <td>False</td>\n",
       "      <td>True</td>\n",
       "    </tr>\n",
       "    <tr>\n",
       "      <th>4</th>\n",
       "      <td>False</td>\n",
       "      <td>True</td>\n",
       "    </tr>\n",
       "  </tbody>\n",
       "</table>\n",
       "</div>"
      ],
      "text/plain": [
       "   type_Movie  type_TV Show\n",
       "0        True         False\n",
       "1       False          True\n",
       "2       False          True\n",
       "3       False          True\n",
       "4       False          True"
      ]
     },
     "execution_count": 6,
     "metadata": {},
     "output_type": "execute_result"
    }
   ],
   "source": [
    "df_dummies = pd.get_dummies(df, columns=['type'], drop_first=False)\n",
    "df_dummies[['type_Movie', 'type_TV Show']].head()"
   ]
  },
  {
   "cell_type": "markdown",
   "metadata": {},
   "source": [
    "## Ejercicio n°6: Categorización explícita\n",
    "\n",
    "Descripción: La columna rating contiene categorías como PG, R, TV-MA, etc. Vamos a convertirla en un tipo Categorical para optimizar el almacenamiento y facilitar agrupamientos.\n",
    "\n",
    "Pregunta: ¿Qué categorías únicas existen en rating y cuál es la más frecuente?\n",
    "\n",
    "Resolución:"
   ]
  },
  {
   "cell_type": "code",
   "execution_count": 7,
   "metadata": {},
   "outputs": [
    {
     "name": "stdout",
     "output_type": "stream",
     "text": [
      "rating\n",
      "TV-MA       3207\n",
      "TV-14       2160\n",
      "TV-PG        863\n",
      "R            799\n",
      "PG-13        490\n",
      "TV-Y7        334\n",
      "TV-Y         307\n",
      "PG           287\n",
      "TV-G         220\n",
      "NR            80\n",
      "G             41\n",
      "TV-Y7-FV       6\n",
      "NC-17          3\n",
      "UR             3\n",
      "66 min         1\n",
      "84 min         1\n",
      "74 min         1\n",
      "Name: count, dtype: int64\n"
     ]
    }
   ],
   "source": [
    "df['rating'] = df['rating'].astype('category')\n",
    "conteo_rating = df['rating'].value_counts()\n",
    "print(conteo_rating)"
   ]
  },
  {
   "cell_type": "markdown",
   "metadata": {},
   "source": []
  },
  {
   "cell_type": "markdown",
   "metadata": {},
   "source": [
    "## Ejercicio n°7: Correción de ratings\n",
    "\n",
    "A partir del resultado del ejercicio anterior vemos que hay 3 películas que tienen errores en el rating: "
   ]
  },
  {
   "cell_type": "code",
   "execution_count": 8,
   "metadata": {},
   "outputs": [
    {
     "data": {
      "text/html": [
       "<div>\n",
       "<style scoped>\n",
       "    .dataframe tbody tr th:only-of-type {\n",
       "        vertical-align: middle;\n",
       "    }\n",
       "\n",
       "    .dataframe tbody tr th {\n",
       "        vertical-align: top;\n",
       "    }\n",
       "\n",
       "    .dataframe thead th {\n",
       "        text-align: right;\n",
       "    }\n",
       "</style>\n",
       "<table border=\"1\" class=\"dataframe\">\n",
       "  <thead>\n",
       "    <tr style=\"text-align: right;\">\n",
       "      <th></th>\n",
       "      <th>show_id</th>\n",
       "      <th>type</th>\n",
       "      <th>title</th>\n",
       "      <th>director</th>\n",
       "      <th>cast</th>\n",
       "      <th>country</th>\n",
       "      <th>date_added</th>\n",
       "      <th>release_year</th>\n",
       "      <th>rating</th>\n",
       "      <th>duration</th>\n",
       "      <th>listed_in</th>\n",
       "      <th>description</th>\n",
       "      <th>is_documentary</th>\n",
       "    </tr>\n",
       "  </thead>\n",
       "  <tbody>\n",
       "    <tr>\n",
       "      <th>5541</th>\n",
       "      <td>s5542</td>\n",
       "      <td>Movie</td>\n",
       "      <td>Louis C.K. 2017</td>\n",
       "      <td>Louis C.K.</td>\n",
       "      <td>Louis C.K.</td>\n",
       "      <td>UNITED STATES</td>\n",
       "      <td>2017-04-04</td>\n",
       "      <td>2017</td>\n",
       "      <td>74 min</td>\n",
       "      <td>NaN</td>\n",
       "      <td>Movies</td>\n",
       "      <td>Louis C.K. muses on religion, eternal love, gi...</td>\n",
       "      <td>False</td>\n",
       "    </tr>\n",
       "    <tr>\n",
       "      <th>5794</th>\n",
       "      <td>s5795</td>\n",
       "      <td>Movie</td>\n",
       "      <td>Louis C.K.: Hilarious</td>\n",
       "      <td>Louis C.K.</td>\n",
       "      <td>Louis C.K.</td>\n",
       "      <td>UNITED STATES</td>\n",
       "      <td>2016-09-16</td>\n",
       "      <td>2010</td>\n",
       "      <td>84 min</td>\n",
       "      <td>NaN</td>\n",
       "      <td>Movies</td>\n",
       "      <td>Emmy-winning comedy writer Louis C.K. brings h...</td>\n",
       "      <td>False</td>\n",
       "    </tr>\n",
       "    <tr>\n",
       "      <th>5813</th>\n",
       "      <td>s5814</td>\n",
       "      <td>Movie</td>\n",
       "      <td>Louis C.K.: Live at the Comedy Store</td>\n",
       "      <td>Louis C.K.</td>\n",
       "      <td>Louis C.K.</td>\n",
       "      <td>UNITED STATES</td>\n",
       "      <td>2016-08-15</td>\n",
       "      <td>2015</td>\n",
       "      <td>66 min</td>\n",
       "      <td>NaN</td>\n",
       "      <td>Movies</td>\n",
       "      <td>The comic puts his trademark hilarious/thought...</td>\n",
       "      <td>False</td>\n",
       "    </tr>\n",
       "    <tr>\n",
       "      <th>5989</th>\n",
       "      <td>s5990</td>\n",
       "      <td>Movie</td>\n",
       "      <td>13TH: A Conversation with Oprah Winfrey &amp; Ava ...</td>\n",
       "      <td>Desconocido</td>\n",
       "      <td>Oprah Winfrey, Ava DuVernay</td>\n",
       "      <td>NaN</td>\n",
       "      <td>2017-01-26</td>\n",
       "      <td>2017</td>\n",
       "      <td>NaN</td>\n",
       "      <td>37 min</td>\n",
       "      <td>Movies</td>\n",
       "      <td>Oprah Winfrey sits down with director Ava DuVe...</td>\n",
       "      <td>False</td>\n",
       "    </tr>\n",
       "    <tr>\n",
       "      <th>6827</th>\n",
       "      <td>s6828</td>\n",
       "      <td>TV Show</td>\n",
       "      <td>Gargantia on the Verdurous Planet</td>\n",
       "      <td>Desconocido</td>\n",
       "      <td>Kaito Ishikawa, Hisako Kanemoto, Ai Kayano, Ka...</td>\n",
       "      <td>JAPAN</td>\n",
       "      <td>2016-12-01</td>\n",
       "      <td>2013</td>\n",
       "      <td>NaN</td>\n",
       "      <td>1 Season</td>\n",
       "      <td>Anime Series, International TV Shows</td>\n",
       "      <td>After falling through a wormhole, a space-dwel...</td>\n",
       "      <td>False</td>\n",
       "    </tr>\n",
       "    <tr>\n",
       "      <th>7312</th>\n",
       "      <td>s7313</td>\n",
       "      <td>TV Show</td>\n",
       "      <td>Little Lunch</td>\n",
       "      <td>Desconocido</td>\n",
       "      <td>Flynn Curry, Olivia Deeble, Madison Lu, Oisín ...</td>\n",
       "      <td>AUSTRALIA</td>\n",
       "      <td>2018-02-01</td>\n",
       "      <td>2015</td>\n",
       "      <td>NaN</td>\n",
       "      <td>1 Season</td>\n",
       "      <td>Kids' TV, TV Comedies</td>\n",
       "      <td>Adopting a child's perspective, this show take...</td>\n",
       "      <td>False</td>\n",
       "    </tr>\n",
       "    <tr>\n",
       "      <th>7537</th>\n",
       "      <td>s7538</td>\n",
       "      <td>Movie</td>\n",
       "      <td>My Honor Was Loyalty</td>\n",
       "      <td>Alessandro Pepe</td>\n",
       "      <td>Leone Frisa, Paolo Vaccarino, Francesco Miglio...</td>\n",
       "      <td>ITALY</td>\n",
       "      <td>2017-03-01</td>\n",
       "      <td>2015</td>\n",
       "      <td>NaN</td>\n",
       "      <td>115 min</td>\n",
       "      <td>Dramas</td>\n",
       "      <td>Amid the chaos and horror of World War II, a c...</td>\n",
       "      <td>False</td>\n",
       "    </tr>\n",
       "  </tbody>\n",
       "</table>\n",
       "</div>"
      ],
      "text/plain": [
       "     show_id     type                                              title  \\\n",
       "5541   s5542    Movie                                    Louis C.K. 2017   \n",
       "5794   s5795    Movie                              Louis C.K.: Hilarious   \n",
       "5813   s5814    Movie               Louis C.K.: Live at the Comedy Store   \n",
       "5989   s5990    Movie  13TH: A Conversation with Oprah Winfrey & Ava ...   \n",
       "6827   s6828  TV Show                  Gargantia on the Verdurous Planet   \n",
       "7312   s7313  TV Show                                       Little Lunch   \n",
       "7537   s7538    Movie                               My Honor Was Loyalty   \n",
       "\n",
       "             director                                               cast  \\\n",
       "5541       Louis C.K.                                         Louis C.K.   \n",
       "5794       Louis C.K.                                         Louis C.K.   \n",
       "5813       Louis C.K.                                         Louis C.K.   \n",
       "5989      Desconocido                        Oprah Winfrey, Ava DuVernay   \n",
       "6827      Desconocido  Kaito Ishikawa, Hisako Kanemoto, Ai Kayano, Ka...   \n",
       "7312      Desconocido  Flynn Curry, Olivia Deeble, Madison Lu, Oisín ...   \n",
       "7537  Alessandro Pepe  Leone Frisa, Paolo Vaccarino, Francesco Miglio...   \n",
       "\n",
       "            country date_added  release_year  rating  duration  \\\n",
       "5541  UNITED STATES 2017-04-04          2017  74 min       NaN   \n",
       "5794  UNITED STATES 2016-09-16          2010  84 min       NaN   \n",
       "5813  UNITED STATES 2016-08-15          2015  66 min       NaN   \n",
       "5989            NaN 2017-01-26          2017     NaN    37 min   \n",
       "6827          JAPAN 2016-12-01          2013     NaN  1 Season   \n",
       "7312      AUSTRALIA 2018-02-01          2015     NaN  1 Season   \n",
       "7537          ITALY 2017-03-01          2015     NaN   115 min   \n",
       "\n",
       "                                 listed_in  \\\n",
       "5541                                Movies   \n",
       "5794                                Movies   \n",
       "5813                                Movies   \n",
       "5989                                Movies   \n",
       "6827  Anime Series, International TV Shows   \n",
       "7312                 Kids' TV, TV Comedies   \n",
       "7537                                Dramas   \n",
       "\n",
       "                                            description  is_documentary  \n",
       "5541  Louis C.K. muses on religion, eternal love, gi...           False  \n",
       "5794  Emmy-winning comedy writer Louis C.K. brings h...           False  \n",
       "5813  The comic puts his trademark hilarious/thought...           False  \n",
       "5989  Oprah Winfrey sits down with director Ava DuVe...           False  \n",
       "6827  After falling through a wormhole, a space-dwel...           False  \n",
       "7312  Adopting a child's perspective, this show take...           False  \n",
       "7537  Amid the chaos and horror of World War II, a c...           False  "
      ]
     },
     "execution_count": 8,
     "metadata": {},
     "output_type": "execute_result"
    }
   ],
   "source": [
    "# Definir la lista oficial de ratings\n",
    "df['rating'] = df['rating'].str.strip()\n",
    "ratings_validos = ['TV-MA','TV-14','TV-PG','R','PG-13','TV-Y7','TV-Y','PG','TV-G','NR','G','TV-Y7-FV','NC-17','UR']\n",
    "\n",
    "# Filtrar filas cuyo rating no esté en la lista oficial\n",
    "malos_ratings = df[~df['rating'].isin(ratings_validos)]\n",
    "\n",
    "# Mostrar las filas\n",
    "malos_ratings"
   ]
  },
  {
   "cell_type": "markdown",
   "metadata": {},
   "source": [
    "La estrategia es poner en NaN aquellas películas que tengan un valor erróneo en el rating."
   ]
  },
  {
   "cell_type": "code",
   "execution_count": 9,
   "metadata": {},
   "outputs": [
    {
     "data": {
      "text/plain": [
       "rating\n",
       "TV-MA       3207\n",
       "TV-14       2160\n",
       "TV-PG        863\n",
       "R            799\n",
       "PG-13        490\n",
       "TV-Y7        334\n",
       "TV-Y         307\n",
       "PG           287\n",
       "TV-G         220\n",
       "NR            80\n",
       "G             41\n",
       "NaN            7\n",
       "TV-Y7-FV       6\n",
       "NC-17          3\n",
       "UR             3\n",
       "Name: count, dtype: int64"
      ]
     },
     "execution_count": 9,
     "metadata": {},
     "output_type": "execute_result"
    }
   ],
   "source": [
    "# Limpiar valores inválidos: los que no estén en ratings_validos se convierten en NaN\n",
    "df['rating'] = df['rating'].where(df['rating'].isin(ratings_validos), np.nan)\n",
    "\n",
    "# Verificar que ya no hay valores incorrectos\n",
    "df['rating'].value_counts(dropna=False)"
   ]
  }
 ],
 "metadata": {
  "kernelspec": {
   "display_name": "Python 3 (ipykernel)",
   "language": "python",
   "name": "python3"
  },
  "language_info": {
   "codemirror_mode": {
    "name": "ipython",
    "version": 3
   },
   "file_extension": ".py",
   "mimetype": "text/x-python",
   "name": "python",
   "nbconvert_exporter": "python",
   "pygments_lexer": "ipython3",
   "version": "3.13.7"
  }
 },
 "nbformat": 4,
 "nbformat_minor": 4
}
